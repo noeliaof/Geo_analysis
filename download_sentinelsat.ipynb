{
 "cells": [
  {
   "cell_type": "code",
   "execution_count": null,
   "metadata": {},
   "outputs": [],
   "source": [
    "import numpy as np\n",
    "import matplotlib\n",
    "import matplotlib.pyplot as plt \n",
    "import folium\n",
    "import plotly_express as px\n",
    "import os\n",
    "import warnings\n",
    "import json\n",
    "from datetime import datetime, date\n",
    "import os\n",
    "import shapefile\n",
    "from datetime import datetime as dt\n",
    "from sentinelhub import CRS, BBox, DataCollection, SentinelHubCatalog, SHConfig\n",
    "from sentinelhub.aws import AwsDownloadClient\n",
    "from sentinelsat import SentinelAPI, read_geojson, geojson_to_wkt\n",
    "import yaml\n",
    "# open shape files for Cameroon\n",
    "import geopandas as gpd\n",
    "\n",
    "\n",
    "warnings.filterwarnings('ignore')"
   ]
  },
  {
   "cell_type": "code",
   "execution_count": null,
   "metadata": {},
   "outputs": [],
   "source": [
    "# Open file for credentials\n",
    "PATH = '/Users/noeliaotero/Documents/Geo_analysis/'\n",
    "# Read YAML file\n",
    "with open(PATH + \"credentials.yml\", 'r') as stream:\n",
    "    credentials_conf = yaml.safe_load(stream)\n",
    "with open(PATH + \"config_sentinel.yml\", 'r') as stream:\n",
    "    s_conf = yaml.safe_load(stream)\n"
   ]
  },
  {
   "cell_type": "code",
   "execution_count": null,
   "metadata": {},
   "outputs": [],
   "source": [
    "\n",
    "shafile_file = \"/Users/noeliaotero/Documents/Geo_analysis/cmr/cmr.shp\"\n",
    "sh_cmr = gpd.read_file(\"/Users/noeliaotero/Documents/Geo_analysis/cmr/cmr.shp\")"
   ]
  },
  {
   "cell_type": "code",
   "execution_count": null,
   "metadata": {},
   "outputs": [],
   "source": [
    "#geojson_data = shapefile.Reader(shafile_file).__geo_interface__"
   ]
  },
  {
   "cell_type": "code",
   "execution_count": null,
   "metadata": {},
   "outputs": [],
   "source": [
    "sh_cmr.plot()"
   ]
  },
  {
   "cell_type": "code",
   "execution_count": null,
   "metadata": {},
   "outputs": [],
   "source": [
    "\n",
    "\n",
    "# connect to the API\n",
    "api = SentinelAPI(credentials_conf['user'], credentials_conf['password'], 'https://apihub.copernicus.eu/apihub')"
   ]
  },
  {
   "cell_type": "code",
   "execution_count": null,
   "metadata": {},
   "outputs": [],
   "source": [
    "footprint = geojson_to_wkt(read_geojson(s_conf['footprint_file']))"
   ]
  },
  {
   "cell_type": "code",
   "execution_count": null,
   "metadata": {},
   "outputs": [],
   "source": [
    "s_conf['platformname']"
   ]
  },
  {
   "cell_type": "code",
   "execution_count": null,
   "metadata": {},
   "outputs": [],
   "source": [
    "products = api.query(footprint,\n",
    "                     date = (date(2020,1,1),date(2020,1,5)),\n",
    "                     platformname = s_conf['platformname'],\n",
    "                     processinglevel = s_conf['processinglevel'],\n",
    "                     cloudcoverpercentage = (0, 20))\n",
    "# GeoPandas GeoDataFrame with the metadata of the scenes and the footprints as geometries\n",
    "images_df = api.to_geodataframe(products)\n",
    "\n",
    "# GeoJSON FeatureCollection containing footprints and metadata of the scenes\n",
    "# api.to_geojson(products)"
   ]
  },
  {
   "cell_type": "code",
   "execution_count": null,
   "metadata": {},
   "outputs": [],
   "source": [
    "images_df_sorted = images_df.sort_values(['cloudcoverpercentage'], ascending=[True])\n",
    "images_df_sorted"
   ]
  },
  {
   "cell_type": "code",
   "execution_count": null,
   "metadata": {},
   "outputs": [],
   "source": [
    "# download all results from the search\n",
    "# api.download_all(products)"
   ]
  },
  {
   "cell_type": "code",
   "execution_count": null,
   "metadata": {},
   "outputs": [],
   "source": [
    "print(f\"Number of products available: {len(images_df)}\")\n",
    "print(f\"Downloading product: {images_df.head(s_conf['download_index'])['title']}\")\n",
    "\n",
    "# Select and download product to data directory.\n",
    "images_df = images_df.head(s_conf['download_index'])  # Get desired product based on selected index.\n",
    "cwd = os.getcwd()  # remember current work directory (CWD).\n",
    "os.chdir(s_conf['data_dir'])  # Change directory.\n",
    "api.download_all(images_df.index)  # Download product. Needs '.index' as it cannot download df directly.\n",
    "os.chdir(cwd)  # Return to project directory.\n"
   ]
  },
  {
   "cell_type": "code",
   "execution_count": null,
   "metadata": {},
   "outputs": [],
   "source": [
    "import zipfile\n",
    "\n",
    "# -- Proprietary modules -- #\n",
    "\n",
    "\n",
    "def unzip(sentinelsat_options: dict):\n",
    "    # -- Unzips all files in data directory. -- #\n",
    "    cwd = os.getcwd()\n",
    "    os.chdir(sentinelsat_options['data_dir'])\n",
    "\n",
    "    files = os.listdir()\n",
    "    zip_files = [file for file in files if '.zip' in file]  # Find all .zip files.\n",
    "    safe_files = [file for file in files if '.SAFE' in file]  # Find all .SAFe files.\n",
    "\n",
    "    files_to_unzip = [file for file in zip_files if not\n",
    "                      [file.split('.')[0] in safe_file for safe_file in safe_files]]  # Find .zip files not unzipped.\n",
    "\n",
    "    # Unzip files.\n",
    "    for file_to_unzip in files_to_unzip:\n",
    "        to_unzip = zipfile.ZipFile(file_to_unzip, 'r')\n",
    "        to_unzip.extractall()\n",
    "        to_unzip.close()\n",
    "    os.chdir(cwd)"
   ]
  }
 ],
 "metadata": {
  "kernelspec": {
   "display_name": "pyRem",
   "language": "python",
   "name": "python3"
  },
  "language_info": {
   "codemirror_mode": {
    "name": "ipython",
    "version": 3
   },
   "file_extension": ".py",
   "mimetype": "text/x-python",
   "name": "python",
   "nbconvert_exporter": "python",
   "pygments_lexer": "ipython3",
   "version": "3.10.9"
  },
  "orig_nbformat": 4,
  "vscode": {
   "interpreter": {
    "hash": "0e7de3e693bcf9677b894e3bb1bb536a1cbf15f683f2874b8c3b5668889eb51a"
   }
  }
 },
 "nbformat": 4,
 "nbformat_minor": 2
}
