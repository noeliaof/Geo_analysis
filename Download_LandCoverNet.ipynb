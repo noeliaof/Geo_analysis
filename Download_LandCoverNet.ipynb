{
 "cells": [
  {
   "cell_type": "code",
   "execution_count": 6,
   "metadata": {},
   "outputs": [],
   "source": [
    "# Import required libraries\n",
    "from radiant_mlhub import Dataset\n",
    "from pathlib import Path\n",
    "import os\n",
    "from radiant_mlhub import client, get_session\n",
    "from shapely.geometry import box\n",
    "import geopandas as gpd\n",
    "import yalm\n",
    "import json\n",
    "\n",
    "import urllib.parse\n",
    "import re\n",
    "from pathlib import Path\n",
    "import itertools as it\n",
    "from functools import partial\n",
    "from concurrent.futures import ThreadPoolExecutor\n",
    "\n",
    "from tqdm.notebook import tqdm"
   ]
  },
  {
   "cell_type": "code",
   "execution_count": 2,
   "metadata": {},
   "outputs": [],
   "source": [
    "PATH_DATAOUT = '/Users/noeliaotero/Documents/Geo_analysis/data/'"
   ]
  },
  {
   "cell_type": "code",
   "execution_count": 3,
   "metadata": {},
   "outputs": [
    {
     "name": "stdout",
     "output_type": "stream",
     "text": [
      "[12.177475309471191, 5.02154295782988]\n"
     ]
    }
   ],
   "source": [
    "# Open json file\n",
    "gdf = gpd.read_file('/Users/noeliaotero/Documents/Geo_analysis/cameroon.json')\n",
    "# Set the crs to EPSG 4326 in case of our data is in aonther crs\n",
    "gdf  = gdf.to_crs(\"EPSG:4326\")\n",
    "# Get AOI bounds\n",
    "bbox_aoi = gdf.geometry.total_bounds\n",
    "# Get AOI centroid for plotting with folium\n",
    "centroid_aoi = [box(*bbox_aoi).centroid.x, box(*bbox_aoi).centroid.y]\n",
    "# I will use this later\n",
    "print(centroid_aoi)"
   ]
  },
  {
   "cell_type": "code",
   "execution_count": 4,
   "metadata": {},
   "outputs": [],
   "source": [
    "os.environ['MLHUB_API_KEY'] = 'e24d1e7931b752bfabe579a9e39077636bbb27f90cec5037297e453c488dca15'"
   ]
  },
  {
   "cell_type": "code",
   "execution_count": 5,
   "metadata": {},
   "outputs": [
    {
     "name": "stdout",
     "output_type": "stream",
     "text": [
      "umd_mali_crop_type: 2019 Mali CropType Training Data\n",
      "idiv_asia_crop_type: A crop type dataset for consistent land cover classification in Central Asia\n",
      "dlr_fusion_competition_germany: A Fusion Dataset for Crop Type Classification in Germany\n",
      "ref_fusion_competition_south_africa: A Fusion Dataset for Crop Type Classification in Western Cape, South Africa\n",
      "ref_agrifieldnet_competition_v1: AgriFieldNet Competition Dataset\n",
      "bigearthnet_v1: BigEarthNet\n",
      "microsoft_chesapeake: Chesapeake Land Cover\n",
      "c2smsfloods_v1: Cloud to Street - Microsoft flood dataset\n",
      "csu_synthetic_attribution: CSU Synthetic Attribution Benchmark Dataset\n",
      "ref_african_crops_kenya_02: CV4A Kenya Crop Type Competition\n",
      "ref_african_crops_uganda_01: Dalberg Data Insights Crop Type Uganda\n",
      "rti_rwanda_crop_type: Drone Imagery Classification Training Dataset for Crop Types in Rwanda\n",
      "cgiar_east_africa_agricultural_field_centers: East Africa Agricultural Field Centers\n",
      "lacuna_fund_eotg_v1: Eyes on the Ground Image Data\n",
      "ref_african_crops_tanzania_01: Great African Food Company Crop Type Tanzania\n",
      "ref_landcovernet_af_v1: LandCoverNet Africa\n",
      "ref_landcovernet_as_v1: LandCoverNet Asia\n",
      "ref_landcovernet_au_v1: LandCoverNet Australia\n",
      "ref_landcovernet_eu_v1: LandCoverNet Europe\n",
      "ref_landcovernet_na_v1: LandCoverNet North America\n",
      "ref_landcovernet_sa_v1: LandCoverNet South America\n",
      "marida_v1: Marine Debris Archive (MARIDA)\n",
      "nasa_marine_debris: Marine Debris Dataset for Object Detection in Planetscope Imagery\n",
      "nasa_floods_v1: NASA Flood Extent Detection\n",
      "open_cities_ai_challenge: Open Cities AI Challenge Dataset\n",
      "ref_african_crops_kenya_01: PlantVillage Crop Type Kenya\n",
      "ramp_accra_ghana: ramp Building Footprint Training Dataset - Accra, Ghana\n",
      "ramp_barishal_bangladesh: ramp Building Footprint Training Dataset - Barishal, Bangladesh\n",
      "ramp_bentiu_south_sudan: ramp Building Footprint Training Dataset - Bentiu, South Sudan\n",
      "ramp_chittagong_bangladesh: ramp Building Footprint Training Dataset - Chittagong, Bangladesh\n",
      "ramp_coxs_bazar_bangladesh: ramp Building Footprint Training Dataset - Cox's Bazar, Bangladesh\n",
      "ramp_daressalaam_tanzania: ramp Building Footprint Training Dataset - Dar es Salaam, Tanzania\n",
      "ramp_dhaka_bangladesh: ramp Building Footprint Training Dataset - Dhaka, Bangladesh\n",
      "ramp_hpa_an_myanmar: ramp Building Footprint Training Dataset - Hpa-an, Myanmar\n",
      "ramp_jashore_bangladesh: ramp Building Footprint Training Dataset - Jashore, Bangladesh\n",
      "ramp_karnataka_india: ramp Building Footprint Training Dataset - Karnataka, India\n",
      "ramp_les_cayes_haiti: ramp Building Footprint Training Dataset - Les Cayes, Haiti\n",
      "ramp_lubumbashi_drc: ramp Building Footprint Training Dataset - Lubumbashi, Democratic Republic of the Congo\n",
      "ramp_manjama_sierra_leone: ramp Building Footprint Training Dataset - Manjama, Sierra Leone\n",
      "ramp_mesopotamia_st_vincent: ramp Building Footprint Training Dataset - Mesopotamia, St. Vincent\n",
      "ramp_muscat_oman: ramp Building Footprint Training Dataset - Muscat, Oman\n",
      "ramp_mzuzu_malawi: ramp Building Footprint Training Dataset - Mzuzu, Malawi\n",
      "ramp_nairobi_kenya: ramp Building Footprint Training Dataset - Nairobi, Kenya\n",
      "ramp_ndjamena_chad: ramp Building Footprint Training Dataset - N'Djamena, Chad\n",
      "ramp_paris_france: ramp Building Footprint Training Dataset - Paris, France\n",
      "ramp_shanghai_china: ramp Building Footprint Training Dataset - Shanghai, China\n",
      "ramp_sylhet_bangladesh: ramp Building Footprint Training Dataset - Sylhet, Bangladesh\n",
      "ramp_wa_ghana: ramp Building Footprint Training Dataset - Wa, Ghana\n",
      "nasa_rwanda_field_boundary_competition: Rwanda Field Boundary Competition Dataset\n",
      "su_african_crops_ghana: Semantic Segmentation of Crop Type in Ghana\n",
      "su_african_crops_south_sudan: Semantic Segmentation of Crop Type in South Sudan\n",
      "sen12floods: SEN12-FLOOD : A SAR and Multispectral Dataset for Flood Detection\n",
      "sen12ts_v1: SEN12TS: A SAR and Multispectral Dataset for Land Cover Classification\n",
      "ref_cloud_cover_detection_challenge_v1: Sentinel-2 Cloud Cover Segmentation Dataset\n",
      "ts_cashew_benin: Smallholder Cashew Plantations in Benin\n",
      "ref_south_africa_crops_competition_v1: South Africa Crop Type Competition\n",
      "spacenet1: SpaceNet 1\n",
      "spacenet2: SpaceNet 2\n",
      "spacenet3: SpaceNet 3\n",
      "spacenet4: SpaceNet 4\n",
      "spacenet5: SpaceNet 5\n",
      "spacenet6: SpaceNet 6\n",
      "spacenet7: SpaceNet 7\n",
      "nasa_tropical_storm_competition: Tropical Cyclone Wind Estimation Competition\n",
      "su_sar_moisture_content_main: Western USA Live Fuel Moisture\n"
     ]
    }
   ],
   "source": [
    "\n",
    "# List of all Datasets\n",
    "datasets = Dataset.list()\n",
    "for dataset in datasets:\n",
    "    print(dataset)"
   ]
  },
  {
   "cell_type": "code",
   "execution_count": 81,
   "metadata": {},
   "outputs": [
    {
     "name": "stdout",
     "output_type": "stream",
     "text": [
      "Title: LandCoverNet Africa\n",
      "DOI: 10.34911/rdnt.d2ce8i\n",
      "Citation: Alemohammad S.H., Ballantyne A., Bromberg Gaber Y., Booth K., Nakanuku-Diggs L., & Miglarese A.H. (2020) \"LandCoverNet Africa: A Geographically Diverse Land Cover Classification Training Dataset\", Version 1.0, Radiant MLHub. [Date Accessed] https://doi.org/10.34911/rdnt.d2ce8i\n",
      "\n",
      "Collection IDs and License:\n",
      "    ref_landcovernet_af_v1_source_sentinel_2 : CC-BY-4.0\n",
      "    ref_landcovernet_af_v1_source_sentinel_1 : CC-BY-4.0\n",
      "    ref_landcovernet_af_v1_source_landsat_8 : CC-BY-4.0\n",
      "    ref_landcovernet_af_v1_labels : CC-BY-4.0\n"
     ]
    }
   ],
   "source": [
    "dataset = Dataset.fetch('ref_landcovernet_af_v1')\n",
    "\n",
    "print(f'Title: {dataset.title}')\n",
    "print(f'DOI: {dataset.doi}')\n",
    "print(f'Citation: {dataset.citation}')\n",
    "print('\\nCollection IDs and License:')\n",
    "for collection in dataset.collections:\n",
    "    print(f'    {collection.id} : {collection.license}')"
   ]
  },
  {
   "cell_type": "code",
   "execution_count": 88,
   "metadata": {},
   "outputs": [],
   "source": [
    "bb = \"\"\"\n",
    "    {\n",
    "      \"type\": \"Feature\",\n",
    "      \"properties\": {},\n",
    "      \"geometry\": {\n",
    "        \"type\": \"Polygon\",\n",
    "        \"coordinates\": [\n",
    "          [\n",
    "            [\n",
    "              12.177475309471191,\n",
    "                5.02154295782988\n",
    "            ],\n",
    "            [\n",
    "              12.177475309471191,\n",
    "             5.02154295782988\n",
    "            ],\n",
    "            [\n",
    "              12.177475309471191,\n",
    "             5.02154295782988\n",
    "            ],\n",
    "            [\n",
    "              12.177475309471191,\n",
    "                 5.02154295782988\n",
    "            ],\n",
    "            [\n",
    "              12.177475309471191,\n",
    "                5.02154295782988\n",
    "            ]\n",
    "          ]\n",
    "        ]\n",
    "      }\n",
    "    }\n",
    "\"\"\""
   ]
  },
  {
   "cell_type": "code",
   "execution_count": 82,
   "metadata": {},
   "outputs": [],
   "source": [
    "aoi = {\n",
    "  \"type\": \"Feature\",\n",
    "  \"properties\": {},\n",
    "  \"geometry\": {\n",
    "    \"type\": \"Polygon\",\n",
    "    \"coordinates\": [\n",
    "      [\n",
    "        [\n",
    "            12.177475309471191,\n",
    "            5.02154295782988\n",
    "        ],\n",
    "        [\n",
    "            12.177475309471191,\n",
    "            5.02154295782988\n",
    "        ],\n",
    "        [\n",
    "            12.177475309471191,\n",
    "            5.02154295782988\n",
    "        ],\n",
    "        [\n",
    "            12.aoi177475309471191,\n",
    "            5.02154295782988\n",
    "        ],\n",
    "        [\n",
    "            12.177475309471191,\n",
    "            5.02154295782988\n",
    "        ]\n",
    "      ]\n",
    "    ]\n",
    "  }\n",
    "}"
   ]
  },
  {
   "cell_type": "code",
   "execution_count": 85,
   "metadata": {},
   "outputs": [],
   "source": [
    "from dateutil.parser import parse\n",
    "\n",
    "\n",
    "my_start_date=parse(\"2018-02-28T00:00:00+0000\")\n",
    "my_end_date=parse(\"2018-01-01T00:00:00+0000\")\n",
    "\n",
    "\n",
    "my_filter = dict(\n",
    "    data_vis=['B02', 'B03', 'B04', 'B08'],   # Red, Green, Blue, NIR\n",
    "    data_source=['labels', 'source_sentinel_2']\n",
    "   \n",
    ")"
   ]
  },
  {
   "cell_type": "code",
   "execution_count": 91,
   "metadata": {},
   "outputs": [],
   "source": [
    "my_geojson = json.loads(bb)"
   ]
  },
  {
   "cell_type": "code",
   "execution_count": 92,
   "metadata": {},
   "outputs": [
    {
     "name": "stderr",
     "output_type": "stream",
     "text": [
      "INFO:radiant_mlhub.client.catalog_downloader:unarchive ref_landcovernet_af_v1.tar.gz ...\n",
      "unarchive ref_landcovernet_af_v1.tar.gz: 100%|██████████| 603550/603550 [00:33<00:00, 17842.33it/s]\n",
      "INFO:radiant_mlhub.client.catalog_downloader:create stac asset list (please wait) ...\n",
      "WARNING:radiant_mlhub.client.catalog_downloader:skipping collection ref_landcovernet_af_v1_source_sentinel_1\n",
      "WARNING:radiant_mlhub.client.catalog_downloader:skipping collection ref_landcovernet_af_v1_labels\n",
      "WARNING:radiant_mlhub.client.catalog_downloader:skipping collection ref_landcovernet_af_v1_source_sentinel_2\n",
      "WARNING:radiant_mlhub.client.catalog_downloader:skipping collection ref_landcovernet_af_v1_source_landsat_8\n",
      "INFO:radiant_mlhub.client.catalog_downloader:2731368 unique assets in stac catalog.\n",
      "INFO:radiant_mlhub.client.catalog_downloader:filter by collection ids and asset keys\n"
     ]
    },
    {
     "ename": "RuntimeError",
     "evalue": "after filtering collections_ids and asset keys, zero assets to download. filter: <class 'filter'>",
     "output_type": "error",
     "traceback": [
      "\u001b[0;31m---------------------------------------------------------------------------\u001b[0m",
      "\u001b[0;31mRuntimeError\u001b[0m                              Traceback (most recent call last)",
      "Cell \u001b[0;32mIn[92], line 1\u001b[0m\n\u001b[0;32m----> 1\u001b[0m dataset\u001b[39m.\u001b[39;49mdownload(collection_filter\u001b[39m=\u001b[39;49mmy_filter, intersects\u001b[39m=\u001b[39;49mmy_geojson)\n\u001b[1;32m      3\u001b[0m \u001b[39m#dataset.download(collection_filter=my_filter)\u001b[39;00m\n",
      "File \u001b[0;32m~/opt/anaconda3/envs/pyAIS/lib/python3.10/site-packages/radiant_mlhub/models/dataset.py:377\u001b[0m, in \u001b[0;36mDataset.download\u001b[0;34m(self, output_dir, asset_output_dir, catalog_only, if_exists, api_key, profile, bbox, intersects, datetime, collection_filter)\u001b[0m\n\u001b[1;32m    362\u001b[0m config \u001b[39m=\u001b[39m CatalogDownloaderConfig(\n\u001b[1;32m    363\u001b[0m     catalog_only\u001b[39m=\u001b[39mcatalog_only,\n\u001b[1;32m    364\u001b[0m     api_key\u001b[39m=\u001b[39mapi_key,\n\u001b[0;32m   (...)\u001b[0m\n\u001b[1;32m    374\u001b[0m     temporal_query\u001b[39m=\u001b[39mdatetime,\n\u001b[1;32m    375\u001b[0m )\n\u001b[1;32m    376\u001b[0m dl \u001b[39m=\u001b[39m CatalogDownloader(config\u001b[39m=\u001b[39mconfig)\n\u001b[0;32m--> 377\u001b[0m dl()\n",
      "File \u001b[0;32m~/opt/anaconda3/envs/pyAIS/lib/python3.10/site-packages/radiant_mlhub/client/catalog_downloader.py:784\u001b[0m, in \u001b[0;36mCatalogDownloader.__call__\u001b[0;34m(self)\u001b[0m\n\u001b[1;32m    782\u001b[0m \u001b[39m# call each step\u001b[39;00m\n\u001b[1;32m    783\u001b[0m \u001b[39mfor\u001b[39;00m step \u001b[39min\u001b[39;00m steps:\n\u001b[0;32m--> 784\u001b[0m     step()\n\u001b[1;32m    786\u001b[0m \u001b[39m# inspect the error report\u001b[39;00m\n\u001b[1;32m    787\u001b[0m \u001b[39mself\u001b[39m\u001b[39m.\u001b[39merr_report\u001b[39m.\u001b[39mflush()\n",
      "File \u001b[0;32m~/opt/anaconda3/envs/pyAIS/lib/python3.10/site-packages/radiant_mlhub/client/catalog_downloader.py:388\u001b[0m, in \u001b[0;36mCatalogDownloader._filter_collections_step\u001b[0;34m(self)\u001b[0m\n\u001b[1;32m    386\u001b[0m total_asset_ct \u001b[39m=\u001b[39m \u001b[39mself\u001b[39m\u001b[39m.\u001b[39m_fetch_unfiltered_count()\n\u001b[1;32m    387\u001b[0m \u001b[39mif\u001b[39;00m total_asset_ct \u001b[39m==\u001b[39m \u001b[39m0\u001b[39m:\n\u001b[0;32m--> 388\u001b[0m     \u001b[39mraise\u001b[39;00m \u001b[39mRuntimeError\u001b[39;00m(\n\u001b[1;32m    389\u001b[0m         \u001b[39mf\u001b[39m\u001b[39m'\u001b[39m\u001b[39mafter filtering collections_ids and asset keys, zero assets to download. filter: \u001b[39m\u001b[39m{\u001b[39;00m\u001b[39mfilter\u001b[39m\u001b[39m}\u001b[39;00m\u001b[39m'\u001b[39m\n\u001b[1;32m    390\u001b[0m     )\n\u001b[1;32m    391\u001b[0m log\u001b[39m.\u001b[39minfo(\u001b[39m'\u001b[39m\u001b[39m%s\u001b[39;00m\u001b[39m assets after collection filter.\u001b[39m\u001b[39m'\u001b[39m, total_asset_ct)\n",
      "\u001b[0;31mRuntimeError\u001b[0m: after filtering collections_ids and asset keys, zero assets to download. filter: <class 'filter'>"
     ]
    },
    {
     "name": "stderr",
     "output_type": "stream",
     "text": []
    }
   ],
   "source": [
    "dataset.download(collection_filter=my_filter, intersects=my_geojson)\n",
    "\n",
    "#dataset.download(collection_filter=my_filter)\n"
   ]
  },
  {
   "cell_type": "code",
   "execution_count": null,
   "metadata": {},
   "outputs": [],
   "source": []
  }
 ],
 "metadata": {
  "kernelspec": {
   "display_name": "pyRem",
   "language": "python",
   "name": "python3"
  },
  "language_info": {
   "codemirror_mode": {
    "name": "ipython",
    "version": 3
   },
   "file_extension": ".py",
   "mimetype": "text/x-python",
   "name": "python",
   "nbconvert_exporter": "python",
   "pygments_lexer": "ipython3",
   "version": "3.10.9"
  },
  "orig_nbformat": 4
 },
 "nbformat": 4,
 "nbformat_minor": 2
}
