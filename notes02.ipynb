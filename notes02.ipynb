{
 "cells": [
  {
   "cell_type": "code",
   "execution_count": 16,
   "metadata": {},
   "outputs": [],
   "source": [
    "import numpy as np\n",
    "import matplotlib\n",
    "import matplotlib.pyplot as plt \n",
    "import folium\n",
    "import plotly_express as px\n",
    "import os\n",
    "import warnings\n",
    "import json\n",
    "from datetime import datetime\n",
    "import os\n",
    "from datetime import datetime as dt\n",
    "from sentinelhub import CRS, BBox, DataCollection, SentinelHubCatalog, SHConfig\n",
    "from sentinelhub.aws import AwsDownloadClient\n",
    "from sentinelsat import SentinelAPI, read_geojson, geojson_to_wkt\n",
    "\n",
    "warnings.filterwarnings('ignore')"
   ]
  },
  {
   "cell_type": "code",
   "execution_count": 4,
   "metadata": {},
   "outputs": [],
   "source": [
    "from sentinelhub import SHConfig"
   ]
  },
  {
   "cell_type": "code",
   "execution_count": 5,
   "metadata": {},
   "outputs": [],
   "source": [
    "\n",
    "#https://sentinelhub-py.readthedocs.io/en/latest/examples/aws_request.html\n",
    "\n",
    "boto_params = {\"RequestPayer\": \"requester\"}\n",
    "config = SHConfig()\n",
    "s3_client = AwsDownloadClient.get_s3_client(config)\n"
   ]
  },
  {
   "cell_type": "code",
   "execution_count": 6,
   "metadata": {},
   "outputs": [],
   "source": [
    "# My info\n",
    "config.instance_id = 'c7442d27-ca9f-406a-8b59-76a13034d289'\n",
    "config.sh_client_id = '72f63f2f-3f76-4b8b-b6b6-fb28a0694a28'\n",
    "config.sh_client_secret = '3mO~G/4wKHfiEB5JC8Q!wTQ~fK1j_]/GgLH#:6gp'\n",
    "config.save()"
   ]
  },
  {
   "cell_type": "code",
   "execution_count": 9,
   "metadata": {},
   "outputs": [],
   "source": [
    "# open shape files for Cameroon\n",
    "import geopandas as gpd\n",
    "sh_cmr = gpd.read_file(\"/Users/noeliaotero/Documents/Geo_analysis/cmr/cmr.shp\")"
   ]
  },
  {
   "cell_type": "code",
   "execution_count": 10,
   "metadata": {},
   "outputs": [
    {
     "data": {
      "text/plain": [
       "<AxesSubplot: >"
      ]
     },
     "execution_count": 10,
     "metadata": {},
     "output_type": "execute_result"
    },
    {
     "data": {
      "image/png": "[encoded data removed]",
      "text/plain": [
       "<Figure size 640x480 with 1 Axes>"
      ]
     },
     "metadata": {},
     "output_type": "display_data"
    }
   ],
   "source": [
    "sh_cmr.plot()"
   ]
  },
  {
   "cell_type": "code",
   "execution_count": 11,
   "metadata": {},
   "outputs": [],
   "source": [
    "sh_cmr  = sh_cmr.to_crs(\"EPSG:4326\")\n",
    "bbx_cmr = sh_cmr.total_bounds\n"
   ]
  },
  {
   "cell_type": "code",
   "execution_count": 12,
   "metadata": {},
   "outputs": [],
   "source": [
    "search_bbox = BBox(bbox=tuple(map(float, bbx_cmr)), crs=CRS.WGS84)\n",
    "search_time_interval = (datetime(2022, 1, 1), datetime(2022, 12, 31))\n"
   ]
  },
  {
   "cell_type": "code",
   "execution_count": 13,
   "metadata": {},
   "outputs": [],
   "source": [
    "dataL2A = DataCollection.SENTINEL2_L2A\n",
    "data_collection = DataCollection.SENTINEL2_L1C "
   ]
  },
  {
   "cell_type": "code",
   "execution_count": 34,
   "metadata": {},
   "outputs": [],
   "source": [
    "#data_collection = DataCollection.SENTINEL2_L1C"
   ]
  },
  {
   "cell_type": "code",
   "execution_count": 14,
   "metadata": {},
   "outputs": [],
   "source": [
    "def get_s3_tile_paths(search_bbox, search_time_interval, data_collection, config):\n",
    "    \"\"\"Get the images directily from AWS\"\"\"\n",
    "    results = SentinelHubCatalog(config).search(collection=data_collection, bbox=search_bbox, time=search_time_interval)\n",
    "\n",
    "    return [result[\"assets\"][\"data\"][\"href\"] for result in results]"
   ]
  },
  {
   "cell_type": "code",
   "execution_count": 15,
   "metadata": {},
   "outputs": [
    {
     "ename": "DownloadFailedException",
     "evalue": "Failed to download from:\nhttps://services.sentinel-hub.com/api/v1/catalog/1.0.0/search\nwith HTTPError:\n403 Client Error: Forbidden for url: https://services.sentinel-hub.com/api/v1/catalog/1.0.0/search\nServer response: \"{\"code\": 403, \"description\": \"Invalid or expired account.\"}\"",
     "output_type": "error",
     "traceback": [
      "\u001b[0;31m---------------------------------------------------------------------------\u001b[0m",
      "\u001b[0;31mHTTPError\u001b[0m                                 Traceback (most recent call last)",
      "File \u001b[0;32m~/opt/anaconda3/envs/pyRem/lib/python3.10/site-packages/sentinelhub/download/handlers.py:41\u001b[0m, in \u001b[0;36mfail_user_errors.<locals>.new_download_func\u001b[0;34m(self, request)\u001b[0m\n\u001b[1;32m     40\u001b[0m \u001b[39mtry\u001b[39;00m:\n\u001b[0;32m---> 41\u001b[0m     \u001b[39mreturn\u001b[39;00m download_func(\u001b[39mself\u001b[39;49m, request)\n\u001b[1;32m     42\u001b[0m \u001b[39mexcept\u001b[39;00m requests\u001b[39m.\u001b[39mHTTPError \u001b[39mas\u001b[39;00m exception:\n",
      "File \u001b[0;32m~/opt/anaconda3/envs/pyRem/lib/python3.10/site-packages/sentinelhub/download/sentinelhub_client.py:90\u001b[0m, in \u001b[0;36mSentinelHubDownloadClient._execute_download\u001b[0;34m(self, request)\u001b[0m\n\u001b[1;32m     88\u001b[0m     \u001b[39mcontinue\u001b[39;00m\n\u001b[0;32m---> 90\u001b[0m response\u001b[39m.\u001b[39;49mraise_for_status()\n\u001b[1;32m     92\u001b[0m LOGGER\u001b[39m.\u001b[39mdebug(\u001b[39m\"\u001b[39m\u001b[39mSuccessful \u001b[39m\u001b[39m%s\u001b[39;00m\u001b[39m request to \u001b[39m\u001b[39m%s\u001b[39;00m\u001b[39m\"\u001b[39m, request\u001b[39m.\u001b[39mrequest_type\u001b[39m.\u001b[39mvalue, request\u001b[39m.\u001b[39murl)\n",
      "File \u001b[0;32m~/opt/anaconda3/envs/pyRem/lib/python3.10/site-packages/requests/models.py:1021\u001b[0m, in \u001b[0;36mResponse.raise_for_status\u001b[0;34m(self)\u001b[0m\n\u001b[1;32m   1020\u001b[0m \u001b[39mif\u001b[39;00m http_error_msg:\n\u001b[0;32m-> 1021\u001b[0m     \u001b[39mraise\u001b[39;00m HTTPError(http_error_msg, response\u001b[39m=\u001b[39m\u001b[39mself\u001b[39m)\n",
      "\u001b[0;31mHTTPError\u001b[0m: 403 Client Error: Forbidden for url: https://services.sentinel-hub.com/api/v1/catalog/1.0.0/search",
      "\nThe above exception was the direct cause of the following exception:\n",
      "\u001b[0;31mDownloadFailedException\u001b[0m                   Traceback (most recent call last)",
      "Cell \u001b[0;32mIn[15], line 1\u001b[0m\n\u001b[0;32m----> 1\u001b[0m get_s3_tile_paths(search_bbox, search_time_interval, dataL2A, config)\n",
      "Cell \u001b[0;32mIn[14], line 5\u001b[0m, in \u001b[0;36mget_s3_tile_paths\u001b[0;34m(search_bbox, search_time_interval, data_collection, config)\u001b[0m\n\u001b[1;32m      2\u001b[0m \u001b[39m\u001b[39m\u001b[39m\"\"\"Get the images directily from AWS\"\"\"\u001b[39;00m\n\u001b[1;32m      3\u001b[0m results \u001b[39m=\u001b[39m SentinelHubCatalog(config)\u001b[39m.\u001b[39msearch(collection\u001b[39m=\u001b[39mdata_collection, bbox\u001b[39m=\u001b[39msearch_bbox, time\u001b[39m=\u001b[39msearch_time_interval)\n\u001b[0;32m----> 5\u001b[0m \u001b[39mreturn\u001b[39;00m [result[\u001b[39m\"\u001b[39m\u001b[39massets\u001b[39m\u001b[39m\"\u001b[39m][\u001b[39m\"\u001b[39m\u001b[39mdata\u001b[39m\u001b[39m\"\u001b[39m][\u001b[39m\"\u001b[39m\u001b[39mhref\u001b[39m\u001b[39m\"\u001b[39m] \u001b[39mfor\u001b[39;00m result \u001b[39min\u001b[39;00m results]\n",
      "Cell \u001b[0;32mIn[14], line 5\u001b[0m, in \u001b[0;36m<listcomp>\u001b[0;34m(.0)\u001b[0m\n\u001b[1;32m      2\u001b[0m \u001b[39m\u001b[39m\u001b[39m\"\"\"Get the images directily from AWS\"\"\"\u001b[39;00m\n\u001b[1;32m      3\u001b[0m results \u001b[39m=\u001b[39m SentinelHubCatalog(config)\u001b[39m.\u001b[39msearch(collection\u001b[39m=\u001b[39mdata_collection, bbox\u001b[39m=\u001b[39msearch_bbox, time\u001b[39m=\u001b[39msearch_time_interval)\n\u001b[0;32m----> 5\u001b[0m \u001b[39mreturn\u001b[39;00m [result[\u001b[39m\"\u001b[39m\u001b[39massets\u001b[39m\u001b[39m\"\u001b[39m][\u001b[39m\"\u001b[39m\u001b[39mdata\u001b[39m\u001b[39m\"\u001b[39m][\u001b[39m\"\u001b[39m\u001b[39mhref\u001b[39m\u001b[39m\"\u001b[39m] \u001b[39mfor\u001b[39;00m result \u001b[39min\u001b[39;00m results]\n",
      "File \u001b[0;32m~/opt/anaconda3/envs/pyRem/lib/python3.10/site-packages/sentinelhub/base.py:274\u001b[0m, in \u001b[0;36mFeatureIterator.__next__\u001b[0;34m(self)\u001b[0m\n\u001b[1;32m    269\u001b[0m \u001b[39m\u001b[39m\u001b[39m\"\"\"Method called to provide the next feature in iteration\u001b[39;00m\n\u001b[1;32m    270\u001b[0m \n\u001b[1;32m    271\u001b[0m \u001b[39m:return: the next feature\u001b[39;00m\n\u001b[1;32m    272\u001b[0m \u001b[39m\"\"\"\u001b[39;00m\n\u001b[1;32m    273\u001b[0m \u001b[39mwhile\u001b[39;00m \u001b[39mself\u001b[39m\u001b[39m.\u001b[39mindex \u001b[39m>\u001b[39m\u001b[39m=\u001b[39m \u001b[39mlen\u001b[39m(\u001b[39mself\u001b[39m\u001b[39m.\u001b[39mfeatures) \u001b[39mand\u001b[39;00m \u001b[39mnot\u001b[39;00m \u001b[39mself\u001b[39m\u001b[39m.\u001b[39mfinished:\n\u001b[0;32m--> 274\u001b[0m     new_features \u001b[39m=\u001b[39m \u001b[39mself\u001b[39;49m\u001b[39m.\u001b[39;49m_fetch_features()\n\u001b[1;32m    275\u001b[0m     \u001b[39mself\u001b[39m\u001b[39m.\u001b[39mfeatures\u001b[39m.\u001b[39mextend(new_features)\n\u001b[1;32m    277\u001b[0m \u001b[39mif\u001b[39;00m \u001b[39mself\u001b[39m\u001b[39m.\u001b[39mindex \u001b[39m<\u001b[39m \u001b[39mlen\u001b[39m(\u001b[39mself\u001b[39m\u001b[39m.\u001b[39mfeatures):\n",
      "File \u001b[0;32m~/opt/anaconda3/envs/pyRem/lib/python3.10/site-packages/sentinelhub/api/catalog.py:240\u001b[0m, in \u001b[0;36mCatalogSearchIterator._fetch_features\u001b[0;34m(self)\u001b[0m\n\u001b[1;32m    237\u001b[0m \u001b[39m\u001b[39m\u001b[39m\"\"\"Collects more results from the service\"\"\"\u001b[39;00m\n\u001b[1;32m    238\u001b[0m payload \u001b[39m=\u001b[39m remove_undefined({\u001b[39m*\u001b[39m\u001b[39m*\u001b[39m\u001b[39mself\u001b[39m\u001b[39m.\u001b[39mparams, \u001b[39m\"\u001b[39m\u001b[39mnext\u001b[39m\u001b[39m\"\u001b[39m: \u001b[39mself\u001b[39m\u001b[39m.\u001b[39mnext})\n\u001b[0;32m--> 240\u001b[0m results \u001b[39m=\u001b[39m \u001b[39mself\u001b[39;49m\u001b[39m.\u001b[39;49mclient\u001b[39m.\u001b[39;49mget_json_dict(\u001b[39mself\u001b[39;49m\u001b[39m.\u001b[39;49murl, post_values\u001b[39m=\u001b[39;49mpayload, use_session\u001b[39m=\u001b[39;49m\u001b[39mTrue\u001b[39;49;00m)\n\u001b[1;32m    242\u001b[0m \u001b[39mself\u001b[39m\u001b[39m.\u001b[39mnext \u001b[39m=\u001b[39m results[\u001b[39m\"\u001b[39m\u001b[39mcontext\u001b[39m\u001b[39m\"\u001b[39m]\u001b[39m.\u001b[39mget(\u001b[39m\"\u001b[39m\u001b[39mnext\u001b[39m\u001b[39m\"\u001b[39m)\n\u001b[1;32m    243\u001b[0m new_features \u001b[39m=\u001b[39m results[\u001b[39m\"\u001b[39m\u001b[39mfeatures\u001b[39m\u001b[39m\"\u001b[39m]\n",
      "File \u001b[0;32m~/opt/anaconda3/envs/pyRem/lib/python3.10/site-packages/sentinelhub/download/client.py:265\u001b[0m, in \u001b[0;36mDownloadClient.get_json_dict\u001b[0;34m(self, url, extract_key, *args, **kwargs)\u001b[0m\n\u001b[1;32m    257\u001b[0m \u001b[39mdef\u001b[39;00m \u001b[39mget_json_dict\u001b[39m(\u001b[39mself\u001b[39m, url: \u001b[39mstr\u001b[39m, \u001b[39m*\u001b[39margs: Any, extract_key: Optional[\u001b[39mstr\u001b[39m] \u001b[39m=\u001b[39m \u001b[39mNone\u001b[39;00m, \u001b[39m*\u001b[39m\u001b[39m*\u001b[39mkwargs: Any) \u001b[39m-\u001b[39m\u001b[39m>\u001b[39m JsonDict:\n\u001b[1;32m    258\u001b[0m \u001b[39m    \u001b[39m\u001b[39m\"\"\"Download request as JSON data type, failing if the result is not a dictionary\u001b[39;00m\n\u001b[1;32m    259\u001b[0m \n\u001b[1;32m    260\u001b[0m \u001b[39m    For other parameters see `get_json` method.\u001b[39;00m\n\u001b[0;32m   (...)\u001b[0m\n\u001b[1;32m    263\u001b[0m \u001b[39m    :param extract_key: If provided, the field is automatically extracted, checked, and returned\u001b[39;00m\n\u001b[1;32m    264\u001b[0m \u001b[39m    \"\"\"\u001b[39;00m\n\u001b[0;32m--> 265\u001b[0m     response \u001b[39m=\u001b[39m \u001b[39mself\u001b[39;49m\u001b[39m.\u001b[39;49mget_json(url, \u001b[39m*\u001b[39;49margs, \u001b[39m*\u001b[39;49m\u001b[39m*\u001b[39;49mkwargs)\n\u001b[1;32m    267\u001b[0m     \u001b[39mif\u001b[39;00m \u001b[39mnot\u001b[39;00m \u001b[39misinstance\u001b[39m(response, \u001b[39mdict\u001b[39m):\n\u001b[1;32m    268\u001b[0m         \u001b[39mraise\u001b[39;00m MissingDataInRequestException(\n\u001b[1;32m    269\u001b[0m             \u001b[39mf\u001b[39m\u001b[39m\"\u001b[39m\u001b[39mResponse from \u001b[39m\u001b[39m{\u001b[39;00murl\u001b[39m}\u001b[39;00m\u001b[39m was expected to be a dictionary, but got \u001b[39m\u001b[39m{\u001b[39;00m\u001b[39mtype\u001b[39m(response)\u001b[39m}\u001b[39;00m\u001b[39m.\u001b[39m\u001b[39m\"\u001b[39m\n\u001b[1;32m    270\u001b[0m         )\n",
      "File \u001b[0;32m~/opt/anaconda3/envs/pyRem/lib/python3.10/site-packages/sentinelhub/download/client.py:255\u001b[0m, in \u001b[0;36mDownloadClient.get_json\u001b[0;34m(self, url, post_values, headers, request_type, **kwargs)\u001b[0m\n\u001b[1;32m    244\u001b[0m     json_headers \u001b[39m=\u001b[39m {\u001b[39m\"\u001b[39m\u001b[39mContent-Type\u001b[39m\u001b[39m\"\u001b[39m: MimeType\u001b[39m.\u001b[39mJSON\u001b[39m.\u001b[39mget_string(), \u001b[39m*\u001b[39m\u001b[39m*\u001b[39mjson_headers}\n\u001b[1;32m    246\u001b[0m request \u001b[39m=\u001b[39m DownloadRequest(\n\u001b[1;32m    247\u001b[0m     url\u001b[39m=\u001b[39murl,\n\u001b[1;32m    248\u001b[0m     headers\u001b[39m=\u001b[39mjson_headers,\n\u001b[0;32m   (...)\u001b[0m\n\u001b[1;32m    252\u001b[0m     \u001b[39m*\u001b[39m\u001b[39m*\u001b[39mkwargs,\n\u001b[1;32m    253\u001b[0m )\n\u001b[0;32m--> 255\u001b[0m \u001b[39mreturn\u001b[39;00m \u001b[39mself\u001b[39;49m\u001b[39m.\u001b[39;49m_single_download_decoded(request)\n",
      "File \u001b[0;32m~/opt/anaconda3/envs/pyRem/lib/python3.10/site-packages/sentinelhub/download/client.py:133\u001b[0m, in \u001b[0;36mDownloadClient._single_download_decoded\u001b[0;34m(self, request)\u001b[0m\n\u001b[1;32m    131\u001b[0m \u001b[39mdef\u001b[39;00m \u001b[39m_single_download_decoded\u001b[39m(\u001b[39mself\u001b[39m, request: DownloadRequest) \u001b[39m-\u001b[39m\u001b[39m>\u001b[39m Any:\n\u001b[1;32m    132\u001b[0m \u001b[39m    \u001b[39m\u001b[39m\"\"\"Downloads a response and decodes it into data. By decoding a single response\"\"\"\u001b[39;00m\n\u001b[0;32m--> 133\u001b[0m     response \u001b[39m=\u001b[39m \u001b[39mself\u001b[39;49m\u001b[39m.\u001b[39;49m_single_download(request)\n\u001b[1;32m    134\u001b[0m     \u001b[39mreturn\u001b[39;00m \u001b[39mNone\u001b[39;00m \u001b[39mif\u001b[39;00m response \u001b[39mis\u001b[39;00m \u001b[39mNone\u001b[39;00m \u001b[39melse\u001b[39;00m response\u001b[39m.\u001b[39mdecode()\n",
      "File \u001b[0;32m~/opt/anaconda3/envs/pyRem/lib/python3.10/site-packages/sentinelhub/download/client.py:146\u001b[0m, in \u001b[0;36mDownloadClient._single_download\u001b[0;34m(self, request)\u001b[0m\n\u001b[1;32m    144\u001b[0m no_local_data \u001b[39m=\u001b[39m \u001b[39mself\u001b[39m\u001b[39m.\u001b[39mredownload \u001b[39mor\u001b[39;00m response_path \u001b[39mis\u001b[39;00m \u001b[39mNone\u001b[39;00m \u001b[39mor\u001b[39;00m \u001b[39mnot\u001b[39;00m os\u001b[39m.\u001b[39mpath\u001b[39m.\u001b[39mexists(response_path)\n\u001b[1;32m    145\u001b[0m \u001b[39mif\u001b[39;00m no_local_data:\n\u001b[0;32m--> 146\u001b[0m     response \u001b[39m=\u001b[39m \u001b[39mself\u001b[39;49m\u001b[39m.\u001b[39;49m_execute_download(request)\n\u001b[1;32m    147\u001b[0m \u001b[39melse\u001b[39;00m:\n\u001b[1;32m    148\u001b[0m     \u001b[39mif\u001b[39;00m \u001b[39mnot\u001b[39;00m request\u001b[39m.\u001b[39mreturn_data \u001b[39mor\u001b[39;00m response_path \u001b[39mis\u001b[39;00m \u001b[39mNone\u001b[39;00m:\n",
      "File \u001b[0;32m~/opt/anaconda3/envs/pyRem/lib/python3.10/site-packages/sentinelhub/download/handlers.py:67\u001b[0m, in \u001b[0;36mretry_temporary_errors.<locals>.new_download_func\u001b[0;34m(self, request)\u001b[0m\n\u001b[1;32m     65\u001b[0m \u001b[39mfor\u001b[39;00m attempt_num \u001b[39min\u001b[39;00m \u001b[39mrange\u001b[39m(download_attempts):\n\u001b[1;32m     66\u001b[0m     \u001b[39mtry\u001b[39;00m:\n\u001b[0;32m---> 67\u001b[0m         \u001b[39mreturn\u001b[39;00m download_func(\u001b[39mself\u001b[39;49m, request)\n\u001b[1;32m     68\u001b[0m     \u001b[39mexcept\u001b[39;00m requests\u001b[39m.\u001b[39mRequestException \u001b[39mas\u001b[39;00m exception:\n\u001b[1;32m     69\u001b[0m         \u001b[39mif\u001b[39;00m \u001b[39mnot\u001b[39;00m (\n\u001b[1;32m     70\u001b[0m             _is_temporary_problem(exception)\n\u001b[1;32m     71\u001b[0m             \u001b[39mor\u001b[39;00m (\n\u001b[0;32m   (...)\u001b[0m\n\u001b[1;32m     74\u001b[0m             )\n\u001b[1;32m     75\u001b[0m         ):\n",
      "File \u001b[0;32m~/opt/anaconda3/envs/pyRem/lib/python3.10/site-packages/sentinelhub/download/handlers.py:47\u001b[0m, in \u001b[0;36mfail_user_errors.<locals>.new_download_func\u001b[0;34m(self, request)\u001b[0m\n\u001b[1;32m     42\u001b[0m \u001b[39mexcept\u001b[39;00m requests\u001b[39m.\u001b[39mHTTPError \u001b[39mas\u001b[39;00m exception:\n\u001b[1;32m     43\u001b[0m     \u001b[39mif\u001b[39;00m (\n\u001b[1;32m     44\u001b[0m         exception\u001b[39m.\u001b[39mresponse\u001b[39m.\u001b[39mstatus_code \u001b[39m<\u001b[39m requests\u001b[39m.\u001b[39mstatus_codes\u001b[39m.\u001b[39mcodes\u001b[39m.\u001b[39mINTERNAL_SERVER_ERROR\n\u001b[1;32m     45\u001b[0m         \u001b[39mand\u001b[39;00m exception\u001b[39m.\u001b[39mresponse\u001b[39m.\u001b[39mstatus_code \u001b[39m!=\u001b[39m requests\u001b[39m.\u001b[39mstatus_codes\u001b[39m.\u001b[39mcodes\u001b[39m.\u001b[39mTOO_MANY_REQUESTS\n\u001b[1;32m     46\u001b[0m     ):\n\u001b[0;32m---> 47\u001b[0m         \u001b[39mraise\u001b[39;00m DownloadFailedException(\n\u001b[1;32m     48\u001b[0m             _create_download_failed_message(exception, request\u001b[39m.\u001b[39murl), request_exception\u001b[39m=\u001b[39mexception\n\u001b[1;32m     49\u001b[0m         ) \u001b[39mfrom\u001b[39;00m \u001b[39mexception\u001b[39;00m\n\u001b[1;32m     50\u001b[0m     \u001b[39mraise\u001b[39;00m exception \u001b[39mfrom\u001b[39;00m \u001b[39mexception\u001b[39;00m\n",
      "\u001b[0;31mDownloadFailedException\u001b[0m: Failed to download from:\nhttps://services.sentinel-hub.com/api/v1/catalog/1.0.0/search\nwith HTTPError:\n403 Client Error: Forbidden for url: https://services.sentinel-hub.com/api/v1/catalog/1.0.0/search\nServer response: \"{\"code\": 403, \"description\": \"Invalid or expired account.\"}\""
     ]
    }
   ],
   "source": [
    "get_s3_tile_paths(search_bbox, search_time_interval, dataL2A, config)"
   ]
  },
  {
   "cell_type": "code",
   "execution_count": 39,
   "metadata": {},
   "outputs": [
    {
     "data": {
      "text/plain": [
       "['s3://sentinel-s2-l2a/tiles/38/L/PH/2022/12/14/0/',\n",
       " 's3://sentinel-s2-l2a/tiles/38/L/PJ/2022/12/14/0/',\n",
       " 's3://sentinel-s2-l2a/tiles/38/L/PK/2022/12/14/0/',\n",
       " 's3://sentinel-s2-l2a/tiles/38/L/PL/2022/12/14/0/',\n",
       " 's3://sentinel-s2-l2a/tiles/38/L/PM/2022/12/14/0/',\n",
       " 's3://sentinel-s2-l2a/tiles/38/L/PN/2022/12/14/0/',\n",
       " 's3://sentinel-s2-l2a/tiles/38/L/PP/2022/12/14/0/',\n",
       " 's3://sentinel-s2-l2a/tiles/38/L/PM/2022/12/12/0/',\n",
       " 's3://sentinel-s2-l2a/tiles/38/L/PN/2022/12/12/0/',\n",
       " 's3://sentinel-s2-l2a/tiles/38/L/PP/2022/12/12/0/',\n",
       " 's3://sentinel-s2-l2a/tiles/38/L/PQ/2022/12/12/0/',\n",
       " 's3://sentinel-s2-l2a/tiles/38/L/PR/2022/12/12/0/']"
      ]
     },
     "execution_count": 39,
     "metadata": {},
     "output_type": "execute_result"
    }
   ],
   "source": [
    "get_s3_tile_paths(search_bbox, search_time_interval, dataL2A, config)"
   ]
  },
  {
   "cell_type": "code",
   "execution_count": 38,
   "metadata": {},
   "outputs": [],
   "source": [
    "def list_tile_objects(s3_tile_path):\n",
    "    \"\"\"Returns list of all files, which are located on `s3 path` on s3 bucket.\"\"\"\n",
    "    _, _, bucket_name, url_key = s3_tile_path.split(\"/\", 3)\n",
    "    return s3_client.list_objects_v2(Bucket=bucket_name, Prefix=url_key, **boto_params)[\"Contents\"]\n"
   ]
  },
  {
   "cell_type": "code",
   "execution_count": 43,
   "metadata": {},
   "outputs": [
    {
     "name": "stdout",
     "output_type": "stream",
     "text": [
      "65\n"
     ]
    }
   ],
   "source": [
    "list_of_objects = tile_objects_list = list_tile_objects(\"s3://sentinel-s2-l1c/tiles/38/L/PH/2022/12/14/0/\")\n",
    "print(len(list_of_objects))"
   ]
  },
  {
   "cell_type": "code",
   "execution_count": 45,
   "metadata": {},
   "outputs": [],
   "source": [
    "def download(s3_tile_path, download_dir, objects_to_download=None):\n",
    "    \"\"\"\"Download files\"\"\"\n",
    "    os.makedirs(download_dir, exist_ok=True)\n",
    "    all_files = list_tile_objects(s3_tile_path)\n",
    "\n",
    "    for file in all_files:\n",
    "        file_name = file[\"Key\"].split(\"/\")[-1]\n",
    "        if not objects_to_download or file_name in objects_to_download:\n",
    "            out_path = os.path.join(download_dir, file_name)\n",
    "            _, _, bucket_name, _ = s3_tile_path.split(\"/\", 3)\n",
    "            s3_client.download_file(Bucket=bucket_name, Key=file[\"Key\"], Filename=out_path, ExtraArgs=boto_params)\n"
   ]
  },
  {
   "cell_type": "code",
   "execution_count": 46,
   "metadata": {},
   "outputs": [],
   "source": [
    "files_to_download = [\"B04.jp2\", \"B07.jp2\"]\n",
    "download(\"s3://sentinel-s2-l1c/tiles/38/L/PH/2022/12/14/0/\", \"/Users/noeliaotero/Documents/Geo_analysis/data/\", files_to_download)\n"
   ]
  }
 ],
 "metadata": {
  "kernelspec": {
   "display_name": "pyRem",
   "language": "python",
   "name": "python3"
  },
  "language_info": {
   "codemirror_mode": {
    "name": "ipython",
    "version": 3
   },
   "file_extension": ".py",
   "mimetype": "text/x-python",
   "name": "python",
   "nbconvert_exporter": "python",
   "pygments_lexer": "ipython3",
   "version": "3.10.9"
  },
  "orig_nbformat": 4,
  "vscode": {
   "interpreter": {
    "hash": "0e7de3e693bcf9677b894e3bb1bb536a1cbf15f683f2874b8c3b5668889eb51a"
   }
  }
 },
 "nbformat": 4,
 "nbformat_minor": 2
}
